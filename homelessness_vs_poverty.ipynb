{
 "cells": [
  {
   "cell_type": "markdown",
   "metadata": {},
   "source": [
    "## Is homelessness is due to poor people getter poorer?"
   ]
  },
  {
   "cell_type": "markdown",
   "metadata": {},
   "source": [
    "### parameters\n",
    "- *TBD*\n",
    "\n",
    "### assumptions\n",
    "- *TBD*\n",
    "\n",
    "### hypothesis\n",
    "`homelessness is due to poor people getter poorer`"
   ]
  },
  {
   "cell_type": "code",
   "execution_count": 3,
   "metadata": {},
   "outputs": [],
   "source": [
    "import pandas as pd"
   ]
  },
  {
   "cell_type": "code",
   "execution_count": 4,
   "metadata": {},
   "outputs": [
    {
     "data": {
      "text/html": [
       "<div>\n",
       "<style scoped>\n",
       "    .dataframe tbody tr th:only-of-type {\n",
       "        vertical-align: middle;\n",
       "    }\n",
       "\n",
       "    .dataframe tbody tr th {\n",
       "        vertical-align: top;\n",
       "    }\n",
       "\n",
       "    .dataframe thead th {\n",
       "        text-align: right;\n",
       "    }\n",
       "</style>\n",
       "<table border=\"1\" class=\"dataframe\">\n",
       "  <thead>\n",
       "    <tr style=\"text-align: right;\">\n",
       "      <th></th>\n",
       "      <th>(nan, nan)</th>\n",
       "      <th>Total initial assessments1</th>\n",
       "      <th>Total owed a prevention or relief duty</th>\n",
       "      <th>Threatened with homelessness within 56 days - Prevention duty owed</th>\n",
       "      <th>due to service of valid Section 21 Notice2</th>\n",
       "      <th>Homeless - Relief duty owed3</th>\n",
       "      <th>Not homeless nor threatened with homelessness within 56 days - no duty owed</th>\n",
       "    </tr>\n",
       "  </thead>\n",
       "  <tbody>\n",
       "    <tr>\n",
       "      <th>2018</th>\n",
       "      <th>Q2</th>\n",
       "      <td>67830</td>\n",
       "      <td>61210</td>\n",
       "      <td>34940</td>\n",
       "      <td>5100</td>\n",
       "      <td>26270</td>\n",
       "      <td>6620</td>\n",
       "    </tr>\n",
       "    <tr>\n",
       "      <th rowspan=\"2\" valign=\"top\">NaN</th>\n",
       "      <th>Q3</th>\n",
       "      <td>74050</td>\n",
       "      <td>67770</td>\n",
       "      <td>37850</td>\n",
       "      <td>4950</td>\n",
       "      <td>29920</td>\n",
       "      <td>6280</td>\n",
       "    </tr>\n",
       "    <tr>\n",
       "      <th>Q4</th>\n",
       "      <td>69480</td>\n",
       "      <td>64080</td>\n",
       "      <td>34460</td>\n",
       "      <td>4080</td>\n",
       "      <td>29620</td>\n",
       "      <td>5390</td>\n",
       "    </tr>\n",
       "    <tr>\n",
       "      <th>2019</th>\n",
       "      <th>Q1</th>\n",
       "      <td>76520</td>\n",
       "      <td>71980</td>\n",
       "      <td>38530</td>\n",
       "      <td>4960</td>\n",
       "      <td>33450</td>\n",
       "      <td>4540</td>\n",
       "    </tr>\n",
       "    <tr>\n",
       "      <th rowspan=\"2\" valign=\"top\">NaN</th>\n",
       "      <th>Q2</th>\n",
       "      <td>74180</td>\n",
       "      <td>70030</td>\n",
       "      <td>37030</td>\n",
       "      <td>4950</td>\n",
       "      <td>33000</td>\n",
       "      <td>4150</td>\n",
       "    </tr>\n",
       "    <tr>\n",
       "      <th>Q3</th>\n",
       "      <td>75520</td>\n",
       "      <td>71570</td>\n",
       "      <td>36640</td>\n",
       "      <td>4440</td>\n",
       "      <td>34940</td>\n",
       "      <td>3950</td>\n",
       "    </tr>\n",
       "  </tbody>\n",
       "</table>\n",
       "</div>"
      ],
      "text/plain": [
       "(nan, nan) Total initial assessments1 Total owed a prevention or relief duty  \\\n",
       "2018 Q2                         67830                                  61210   \n",
       "NaN  Q3                         74050                                  67770   \n",
       "     Q4                         69480                                  64080   \n",
       "2019 Q1                         76520                                  71980   \n",
       "NaN  Q2                         74180                                  70030   \n",
       "     Q3                         75520                                  71570   \n",
       "\n",
       "(nan, nan) Threatened with homelessness within 56 days - Prevention duty owed  \\\n",
       "2018 Q2                                                 34940                   \n",
       "NaN  Q3                                                 37850                   \n",
       "     Q4                                                 34460                   \n",
       "2019 Q1                                                 38530                   \n",
       "NaN  Q2                                                 37030                   \n",
       "     Q3                                                 36640                   \n",
       "\n",
       "(nan, nan) due to service of valid Section 21 Notice2  \\\n",
       "2018 Q2                                          5100   \n",
       "NaN  Q3                                          4950   \n",
       "     Q4                                          4080   \n",
       "2019 Q1                                          4960   \n",
       "NaN  Q2                                          4950   \n",
       "     Q3                                          4440   \n",
       "\n",
       "(nan, nan) Homeless - Relief duty owed3  \\\n",
       "2018 Q2                           26270   \n",
       "NaN  Q3                           29920   \n",
       "     Q4                           29620   \n",
       "2019 Q1                           33450   \n",
       "NaN  Q2                           33000   \n",
       "     Q3                           34940   \n",
       "\n",
       "(nan, nan) Not homeless nor threatened with homelessness within 56 days - no duty owed  \n",
       "2018 Q2                                                  6620                           \n",
       "NaN  Q3                                                  6280                           \n",
       "     Q4                                                  5390                           \n",
       "2019 Q1                                                  4540                           \n",
       "NaN  Q2                                                  4150                           \n",
       "     Q3                                                  3950                           "
      ]
     },
     "execution_count": 4,
     "metadata": {},
     "output_type": "execute_result"
    }
   ],
   "source": [
    "# Duty owed\n",
    "df=pd.read_csv('data/StatHomeless_201909_1.csv', index_col=[0,1], header=1).iloc[:10, :]\n",
    "df = df.drop(columns=df.columns[[0,2,-2]])\n",
    "df.columns = df.iloc[:3].fillna(method='ffill').iloc[-1]\n",
    "df = df.iloc[4:]\n",
    "df"
   ]
  },
  {
   "cell_type": "code",
   "execution_count": 5,
   "metadata": {},
   "outputs": [
    {
     "data": {
      "text/plain": [
       "1\n",
       "Total number of households in TA1,2,4                                              87410\n",
       "Total number of households in TA with children                                     62280\n",
       "Total number of children in TA                                                    127890\n",
       "Total number of households                                                          7080\n",
       "Total with children                                                                 1910\n",
       "Total with children and resident more than 6 weeks                                   620\n",
       "Total with children and resident more than 6 weeks and pending review / appeal        30\n",
       "Total with 16/17-year-old main applicant                                              10\n",
       "Total number of households                                                         21890\n",
       "Total  with children                                                               17010\n",
       "Total number of households                                                          6480\n",
       "Total with children                                                                 3490\n",
       "Total number of households                                                         27450\n",
       "Total with children                                                                22040\n",
       "Total number of households                                                         19250\n",
       "Total with children                                                                14080\n",
       "Total number of households                                                          5250\n",
       "Total with children                                                                 3750\n",
       "In TA in another local authority district                                          24030\n",
       "Total number of households                                                          6740\n",
       "Total with children                                                                 4370\n",
       "Name: 2019-Q3, dtype: object"
      ]
     },
     "execution_count": 5,
     "metadata": {},
     "output_type": "execute_result"
    }
   ],
   "source": [
    "df=pd.read_csv('data/StatHomeless_201909_16.csv')\n",
    "df.columns = df.iloc[:2].fillna(method='ffill').fillna('').iloc[-1]\n",
    "ind=df.iloc[:,:2].fillna(method='ffill').fillna('')\n",
    "df.index = ind.iloc[:,0]+'-'+ind.iloc[:,1]\n",
    "df=df.iloc[2:89]\n",
    "df = df.drop(columns=[''])\n",
    "df.iloc[-1]"
   ]
  },
  {
   "cell_type": "markdown",
   "metadata": {},
   "source": [
    "### Conclusion\n",
    "\n",
    "_TBD..._"
   ]
  }
 ],
 "metadata": {
  "kernelspec": {
   "display_name": "Python 3",
   "language": "python",
   "name": "python3"
  },
  "language_info": {
   "codemirror_mode": {
    "name": "ipython",
    "version": 3
   },
   "file_extension": ".py",
   "mimetype": "text/x-python",
   "name": "python",
   "nbconvert_exporter": "python",
   "pygments_lexer": "ipython3",
   "version": "3.9.0"
  }
 },
 "nbformat": 4,
 "nbformat_minor": 2
}
