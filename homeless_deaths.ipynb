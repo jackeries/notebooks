{
 "cells": [
  {
   "cell_type": "code",
   "execution_count": 4,
   "metadata": {},
   "outputs": [],
   "source": [
    "import pandas as pd"
   ]
  },
  {
   "cell_type": "markdown",
   "metadata": {},
   "source": [
    "# Are homeless deaths are primarily due to drugs and alcohol?"
   ]
  },
  {
   "cell_type": "markdown",
   "metadata": {},
   "source": [
    "### parameters\n",
    "- country: England and Wales, period: 2013-2018\n",
    "\n",
    "### assumptions\n",
    "- *TBD*\n",
    "\n",
    "### hypothesis\n",
    "`homeless deaths are primarily due to drugs and alcohol`"
   ]
  },
  {
   "cell_type": "code",
   "execution_count": 5,
   "metadata": {},
   "outputs": [],
   "source": [
    "# F10: substance use, K70: liver diseases, X60: suicide, V01: accidents\n",
    "df = pd.read_csv('data/2018deaths_5.csv', index_col=[0], header=5).iloc[:-8,-6:]\n",
    "df.index = df.index.to_series().apply(lambda x: str(x[:3]))\n",
    "# df.groupby(level=0).sum().sum(axis=1).sort_values(ascending=False)\n",
    "df_sum = df.sum(axis=1).sort_values(ascending=False)\n",
    "df_sum.index = df_sum.index.to_series().replace({\"F10\": \"drugs\", \"K70\": \"alcohol\", \"X60\": \"suicide\", \"V01\": \"accidents\"})"
   ]
  },
  {
   "cell_type": "code",
   "execution_count": 6,
   "metadata": {
    "scrolled": true
   },
   "outputs": [
    {
     "name": "stdout",
     "output_type": "stream",
     "text": [
      "2.99%\t[100.39]\tdrugs\n",
      "7.58%\t[254.10]\talcohol\n",
      "9.44%\t[316.37]\tsuicide\n",
      "42.58%\t[1427.64]\taccidents\n"
     ]
    }
   ],
   "source": [
    "for i in [\"drugs\", \"alcohol\", \"suicide\", \"accidents\"]:\n",
    "    print(f'{100*df_sum[i]/df_sum.sum():0.2f}%\\t[{df_sum[i]:0.2f}]\\t{i}')"
   ]
  },
  {
   "cell_type": "markdown",
   "metadata": {},
   "source": [
    "### Conclusion\n",
    "\n",
    "`Drugs and alcohol accounted for ~10.6% of deaths. Accidents were the leading cause of death.`\n",
    "\n",
    "*the hypothesis is __false__*"
   ]
  }
 ],
 "metadata": {
  "kernelspec": {
   "display_name": "Python 3",
   "language": "python",
   "name": "python3"
  },
  "language_info": {
   "codemirror_mode": {
    "name": "ipython",
    "version": 3
   },
   "file_extension": ".py",
   "mimetype": "text/x-python",
   "name": "python",
   "nbconvert_exporter": "python",
   "pygments_lexer": "ipython3",
   "version": "3.9.0"
  }
 },
 "nbformat": 4,
 "nbformat_minor": 2
}
