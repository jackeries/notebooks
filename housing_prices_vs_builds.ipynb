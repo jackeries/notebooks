{
 "cells": [
  {
   "cell_type": "markdown",
   "metadata": {},
   "source": [
    "# Is the rise of house prices in the UK due to a shortage of new house builds?"
   ]
  },
  {
   "cell_type": "markdown",
   "metadata": {},
   "source": [
    "### parameters\n",
    "- *study period*: 2010–2020\n",
    "- *control period*: –2010\n",
    "\n",
    "### assumptions\n",
    "__potential variables__:\n",
    "- *demand*: population growth\n",
    "- *ability to buy*: economic growth, umemployment rate, average wage, interest rate, etc.\n",
    "- *incentive to build*: house prices, ?\n",
    "- *market composition*: public vs. private builders\n",
    "\n",
    "### hypothesis\n",
    "`house prices rose in the UK in 2010–2020 above “normal” levels due to fewer houses built, which in turn was due to the elimination of public builders`"
   ]
  },
  {
   "cell_type": "markdown",
   "metadata": {},
   "source": [
    "### required data\n",
    "all broken by geographic region\n",
    "- population growth\n",
    "- economic growth\n",
    "- unemployment\n",
    "- interest rate\n",
    "- house prices\n",
    "- house builds (by builder)\n",
    "- house sales"
   ]
  },
  {
   "cell_type": "code",
   "execution_count": 21,
   "metadata": {},
   "outputs": [],
   "source": [
    "import pandas as pd"
   ]
  },
  {
   "cell_type": "code",
   "execution_count": 22,
   "metadata": {},
   "outputs": [],
   "source": [
    "def remove_newlines(df):\n",
    "    df.columns = df.columns.str.replace('\\n', ' ')\n",
    "    return df\n",
    "\n",
    "def clean_builds(file):\n",
    "    df = pd.read_csv(file, index_col=0, header=5)\n",
    "    df = df.drop(columns=df.columns[:1])\n",
    "    df = remove_newlines(df)\n",
    "    df['Year'] = df.index.str.replace(r'.* ', '')\n",
    "    df = df.groupby(\"Year\").sum()\n",
    "    return df\n",
    "\n",
    "def clean_sales(file):\n",
    "    df = pd.read_csv(file, index_col=0, header=6)\n",
    "    df = remove_newlines(df)\n",
    "    df = df.dropna(axis=1)\n",
    "    df = df.groupby('Region/Country name').sum()\n",
    "    df.columns = df.columns.str.replace('Year ending ', '')\n",
    "    df = df.transpose()\n",
    "    df = df.drop(columns='Wales')\n",
    "    df = df[df.index.str.match(r'Dec \\d{4}')]\n",
    "    df['Year'] = df.index.str.replace(r'[A-Z][a-z]{2} ', '')\n",
    "    df = df.groupby('Year').sum()\n",
    "    return df\n",
    "\n",
    "sales_existing = clean_sales('data/hpssa_23_10.csv')\n",
    "sales_new = clean_sales('data/hpssa_22_10.csv')\n",
    "builds = clean_builds('data/housebuilding_4.csv')\n",
    "\n",
    "population = pd.read_csv('data/series-140420.csv', index_col=0, header=7).iloc[:, 0]\n",
    "population.index = population.index.astype('str')\n",
    "pop_growth = pd.Series(population.values[1:]-population.values[:-1], index=population.index[1:])\n",
    "pop_growth.name = \"Pop_Growth\"\n"
   ]
  },
  {
   "cell_type": "code",
   "execution_count": 23,
   "metadata": {},
   "outputs": [
    {
     "data": {
      "text/plain": [
       "1972         NaN\n",
       "1973         NaN\n",
       "1974         NaN\n",
       "1975         NaN\n",
       "1976         NaN\n",
       "1977         NaN\n",
       "1978   -0.049314\n",
       "1979    0.296477\n",
       "1980    0.442229\n",
       "1981    0.165064\n",
       "1982   -0.455444\n",
       "1983    0.148978\n",
       "1984    0.533668\n",
       "1985    0.881779\n",
       "1986    0.761916\n",
       "1987    0.674183\n",
       "1988    0.579949\n",
       "1989    0.915119\n",
       "1990    0.982246\n",
       "1991    1.301423\n",
       "1992    1.013697\n",
       "1993    0.875271\n",
       "1994    0.958355\n",
       "1995    1.035382\n",
       "1996    0.936347\n",
       "1997    1.002007\n",
       "1998    1.126533\n",
       "1999    1.485710\n",
       "2000    1.493079\n",
       "2001    1.752124\n",
       "2002    1.847222\n",
       "2003    1.881161\n",
       "2004    2.036087\n",
       "2005    2.903104\n",
       "2006    2.572423\n",
       "2007    2.785326\n",
       "2008    3.409905\n",
       "2009    3.494159\n",
       "2010    4.675349\n",
       "2011    4.609313\n",
       "2012    3.632667\n",
       "2013    3.661032\n",
       "2014    4.168223\n",
       "2015    3.601909\n",
       "2016    3.792642\n",
       "2017    2.412626\n",
       "2018    2.405256\n",
       "2019         NaN\n",
       "dtype: float64"
      ]
     },
     "execution_count": 23,
     "metadata": {},
     "output_type": "execute_result"
    }
   ],
   "source": [
    "rs = [str(i) for i in range(1995, 2018)]\n",
    "rs2 = [str(i) for i in range(1978, 2018)]\n",
    "new = sales_new.sum(axis=1)\n",
    "build = builds['All Dwellings.1']\n",
    "exist = sales_existing.sum(axis=1)\n",
    "new.name = \"New\"\n",
    "exist.name = \"Existing\"\n",
    "build.name = \"Built\"\n",
    "# print(((pd.DataFrame([build[rs], pop_growth[rs], exist[rs], new[rs]])/1000).astype('int32').transpose()).plot())\n",
    "# print(((pd.DataFrame([build[rs2], pop_growth[rs2]])/1000).astype('int32').transpose()).plot())\n",
    "# print(((pd.DataFrame([pop_growth[rs2]/build[rs2]])).transpose()).plot())\n",
    "pop_growth/build"
   ]
  },
  {
   "cell_type": "markdown",
   "metadata": {},
   "source": [
    "### Conclusion (preliminary):\n",
    "`while house building did decline, new demand far outstripped demand (population growth rate was 2-4 times that in the period before 1998)`\n",
    "\n",
    "*the hypothesis is presumed to be __false__*"
   ]
  },
  {
   "cell_type": "markdown",
   "metadata": {},
   "source": [
    "---"
   ]
  },
  {
   "cell_type": "markdown",
   "metadata": {},
   "source": [
    "### Further investigation:\n",
    "\n",
    "Confirm conclusion for submarkets, regions"
   ]
  },
  {
   "cell_type": "code",
   "execution_count": 24,
   "metadata": {},
   "outputs": [],
   "source": [
    "def clean_pop(file):\n",
    "    df = pd.read_csv(file, header=4)\n",
    "    if str(df['Year/Code'].dtype ) == 'object':\n",
    "        df.loc[df.index[~df['Year/Code'].str.match('\\d{4}').fillna(False)], 'Year/Code'] = 0\n",
    "    else:\n",
    "        df['Year/Code'] = df['Year/Code'].fillna(0)\n",
    "    df['Year/Code'] = df['Year/Code'].astype('int32')\n",
    "    def extend_year(r):\n",
    "        r['Year/Code'] = df['Year/Code'][:r.name].max()\n",
    "        return r\n",
    "    df = df.apply(extend_year, axis=1)\n",
    "    df = df[df['Standard Statistical Regions'].notna()]\n",
    "    df = df.set_index('Year/Code')\n",
    "    df = df[['Standard Statistical Regions', 'All Persons']]\n",
    "    df.index.name = 'Year'\n",
    "    df.columns = ['Region', 'Pop']\n",
    "    df = df.pivot(columns='Region', values='Pop').astype('int32')\n",
    "    df = df.drop(columns='Wales')\n",
    "    return df\n",
    "\n",
    "df1 = clean_pop('data/pop_3.csv')\n",
    "pop_78 = df1\n",
    "df1 = df1.rename(columns={\"Yorkshire & Humberside\": \"Yorkshire and The Humber\",\n",
    "                          \"North\": \"North East\"})\n",
    "\n",
    "df1[\"South East\"] = df1[\"South East\"] + df1[\"East Anglia\"]\n",
    "df1 = df1.drop(columns=\"East Anglia\")\n",
    "\n",
    "df2 = clean_pop('data/pop_6.csv')\n",
    "pop_90 = df2\n",
    "pop_90.index = pop_90.index.astype('int32').astype('str')\n",
    "df2[\"South East\"] = df2[\"South East\"] + df2[\"London\"] + df2[\"East\"]\n",
    "df2 = df2.drop(columns=[\"London\", \"East\"])\n",
    "\n",
    "population_regional = pd.concat([df1, df2]).rename({'East': 'East of England'}, axis=1).sort_index(axis=1)\n",
    "pop_growth_90 = pd.DataFrame(pop_90.iloc[1:].values - pop_90.iloc[:-1].values,\n",
    "                             index=pop_90.index[1:],\n",
    "                             columns=pop_90.columns)\n",
    "\n",
    "builds_regional = pd.DataFrame([clean_builds(\"data/housebuildingregions_3.csv\").iloc[:, 0],\n",
    "                                clean_builds(\"data/housebuildingregions_4.csv\").iloc[:, 0],\n",
    "                                clean_builds(\"data/housebuildingregions_5.csv\").iloc[:, 0],\n",
    "                                clean_builds(\"data/housebuildingregions_6.csv\").iloc[:, 0],\n",
    "                                clean_builds(\"data/housebuildingregions_7.csv\").iloc[:, 0],\n",
    "                                clean_builds(\"data/housebuildingregions_8.csv\").iloc[:, 0],\n",
    "                                clean_builds(\"data/housebuildingregions_9.csv\").iloc[:, 0],\n",
    "                                clean_builds(\"data/housebuildingregions_10.csv\").iloc[:, 0],\n",
    "                                clean_builds(\"data/housebuildingregions_11.csv\").iloc[:, 0]],\n",
    "                                index=[\"North East\", \"North West\", \"Yorkshire and The Humber\",\n",
    "                                       \"East Midlands\", \"West Midlands\", \"East of England\", \"London\",\n",
    "                                       \"South East\", \"South West\"]).transpose()\n",
    "builds_regional = builds_regional.sort_index(axis=1)"
   ]
  },
  {
   "cell_type": "code",
   "execution_count": 25,
   "metadata": {},
   "outputs": [],
   "source": [
    "r = range(1995, 2018)\n",
    "rs = [str(i) for i in r]\n",
    "rs2 = [str(i) for i in range(1978, 2018)]\n",
    "newR = sales_new.copy().loc[rs]\n",
    "buildR = builds_regional.copy().loc[rs]\n",
    "existR = sales_existing.copy().loc[rs]\n",
    "pg = pop_growth_90.loc[rs].sort_index(axis=1)\n",
    "newR.name = \"New\"\n",
    "existR.name = \"Existing\"\n",
    "buildR.name = \"Built\"\n",
    "# print(newR.shape)\n",
    "# print(existR.shape)\n",
    "# print(pg.shape)\n",
    "# print(buildR.shape)"
   ]
  },
  {
   "cell_type": "code",
   "execution_count": 26,
   "metadata": {},
   "outputs": [
    {
     "data": {
      "text/html": [
       "<div>\n",
       "<style scoped>\n",
       "    .dataframe tbody tr th:only-of-type {\n",
       "        vertical-align: middle;\n",
       "    }\n",
       "\n",
       "    .dataframe tbody tr th {\n",
       "        vertical-align: top;\n",
       "    }\n",
       "\n",
       "    .dataframe thead th {\n",
       "        text-align: right;\n",
       "    }\n",
       "</style>\n",
       "<table border=\"1\" class=\"dataframe\">\n",
       "  <thead>\n",
       "    <tr style=\"text-align: right;\">\n",
       "      <th></th>\n",
       "      <th>0</th>\n",
       "      <th>1</th>\n",
       "      <th>2</th>\n",
       "      <th>3</th>\n",
       "      <th>4</th>\n",
       "      <th>5</th>\n",
       "      <th>6</th>\n",
       "      <th>7</th>\n",
       "      <th>8</th>\n",
       "    </tr>\n",
       "  </thead>\n",
       "  <tbody>\n",
       "    <tr>\n",
       "      <th>0</th>\n",
       "      <td>East Midlands</td>\n",
       "      <td>East of England</td>\n",
       "      <td>London</td>\n",
       "      <td>North East</td>\n",
       "      <td>North West</td>\n",
       "      <td>South East</td>\n",
       "      <td>South West</td>\n",
       "      <td>West Midlands</td>\n",
       "      <td>Yorkshire and The Humber</td>\n",
       "    </tr>\n",
       "    <tr>\n",
       "      <th>1</th>\n",
       "      <td>East Midlands</td>\n",
       "      <td>East of England</td>\n",
       "      <td>London</td>\n",
       "      <td>North East</td>\n",
       "      <td>North West</td>\n",
       "      <td>South East</td>\n",
       "      <td>South West</td>\n",
       "      <td>West Midlands</td>\n",
       "      <td>Yorkshire and The Humber</td>\n",
       "    </tr>\n",
       "    <tr>\n",
       "      <th>2</th>\n",
       "      <td>East Midlands</td>\n",
       "      <td>East of England</td>\n",
       "      <td>London</td>\n",
       "      <td>North East</td>\n",
       "      <td>North West</td>\n",
       "      <td>South East</td>\n",
       "      <td>South West</td>\n",
       "      <td>West Midlands</td>\n",
       "      <td>Yorkshire and The Humber</td>\n",
       "    </tr>\n",
       "    <tr>\n",
       "      <th>3</th>\n",
       "      <td>East</td>\n",
       "      <td>East Midlands</td>\n",
       "      <td>London</td>\n",
       "      <td>North East</td>\n",
       "      <td>North West</td>\n",
       "      <td>South East</td>\n",
       "      <td>South West</td>\n",
       "      <td>West Midlands</td>\n",
       "      <td>Yorkshire and The Humber</td>\n",
       "    </tr>\n",
       "  </tbody>\n",
       "</table>\n",
       "</div>"
      ],
      "text/plain": [
       "               0                1       2           3           4           5  \\\n",
       "0  East Midlands  East of England  London  North East  North West  South East   \n",
       "1  East Midlands  East of England  London  North East  North West  South East   \n",
       "2  East Midlands  East of England  London  North East  North West  South East   \n",
       "3           East    East Midlands  London  North East  North West  South East   \n",
       "\n",
       "            6              7                         8  \n",
       "0  South West  West Midlands  Yorkshire and The Humber  \n",
       "1  South West  West Midlands  Yorkshire and The Humber  \n",
       "2  South West  West Midlands  Yorkshire and The Humber  \n",
       "3  South West  West Midlands  Yorkshire and The Humber  "
      ]
     },
     "execution_count": 26,
     "metadata": {},
     "output_type": "execute_result"
    }
   ],
   "source": [
    "pd.DataFrame([sales_new.columns, builds_regional.columns, sales_existing.columns, pg.columns])"
   ]
  },
  {
   "cell_type": "code",
   "execution_count": 27,
   "metadata": {},
   "outputs": [],
   "source": [
    "# (pg/buildR).plot(figsize=(16, 8))"
   ]
  },
  {
   "cell_type": "code",
   "execution_count": 28,
   "metadata": {},
   "outputs": [],
   "source": [
    "def plotL(l):\n",
    "    (pd.DataFrame([buildR[l], pg[l], newR[l]], index=['build', 'pg', 'new']).transpose()/1000).plot(figsize=(16, 8), title=l)\n",
    "\n",
    "# plotL('North East')\n",
    "# plotL('North West')\n",
    "# plotL('Yorkshire and The Humber')\n",
    "# plotL('East Midlands')\n",
    "# plotL('West Midlands')\n",
    "# plotL('East of England')\n",
    "# plotL('London')\n",
    "# plotL('South East')\n",
    "# plotL('South West')"
   ]
  },
  {
   "cell_type": "code",
   "execution_count": 29,
   "metadata": {},
   "outputs": [],
   "source": [
    "# (100*pop_growth_90/pop_90.iloc[1:,:]).plot(figsize=(16, 8))"
   ]
  }
 ],
 "metadata": {
  "kernelspec": {
   "display_name": "Python 3",
   "language": "python",
   "name": "python3"
  },
  "language_info": {
   "codemirror_mode": {
    "name": "ipython",
    "version": 3
   },
   "file_extension": ".py",
   "mimetype": "text/x-python",
   "name": "python",
   "nbconvert_exporter": "python",
   "pygments_lexer": "ipython3",
   "version": "3.8.6"
  }
 },
 "nbformat": 4,
 "nbformat_minor": 2
}
